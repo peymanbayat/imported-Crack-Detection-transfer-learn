{
  "nbformat": 4,
  "nbformat_minor": 0,
  "metadata": {
    "colab": {
      "name": "Final JBM v2.ipynb",
      "version": "0.3.2",
      "provenance": [],
      "collapsed_sections": [],
      "toc_visible": true,
      "include_colab_link": true
    },
    "kernelspec": {
      "name": "python3",
      "display_name": "Python 3"
    }
  },
  "cells": [
    {
      "cell_type": "markdown",
      "metadata": {
        "id": "view-in-github",
        "colab_type": "text"
      },
      "source": [
        "<a href=\"https://colab.research.google.com/github/ravijp/JBMClassification/blob/master/Playing%20with%20models.ipynb\" target=\"_parent\"><img src=\"https://colab.research.google.com/assets/colab-badge.svg\" alt=\"Open In Colab\"/></a>"
      ]
    },
    {
      "metadata": {
        "id": "zMId1expNbVL",
        "colab_type": "text"
      },
      "cell_type": "markdown",
      "source": [
        "### Get files from Github"
      ]
    },
    {
      "metadata": {
        "id": "2Yb60BYmNhmz",
        "colab_type": "code",
        "colab": {
          "base_uri": "https://localhost:8080/",
          "height": 139
        },
        "outputId": "245613c5-114b-45d6-c88e-85fc9ecb156f"
      },
      "cell_type": "code",
      "source": [
        "!git clone https://github.com/ravijp/JBMClassification.git"
      ],
      "execution_count": 1,
      "outputs": [
        {
          "output_type": "stream",
          "text": [
            "Cloning into 'JBMClassification'...\n",
            "remote: Enumerating objects: 254, done.\u001b[K\n",
            "remote: Counting objects: 100% (254/254), done.\u001b[K\n",
            "remote: Compressing objects: 100% (254/254), done.\u001b[K\n",
            "remote: Total 254 (delta 0), reused 254 (delta 0), pack-reused 0\u001b[K\n",
            "Receiving objects: 100% (254/254), 770.72 MiB | 41.39 MiB/s, done.\n",
            "Checking out files: 100% (250/250), done.\n"
          ],
          "name": "stdout"
        }
      ]
    },
    {
      "metadata": {
        "id": "BU-3-KX-NjGV",
        "colab_type": "text"
      },
      "cell_type": "markdown",
      "source": [
        "### Import necessary modules "
      ]
    },
    {
      "metadata": {
        "id": "ZqEufIumNWnR",
        "colab_type": "code",
        "colab": {
          "base_uri": "https://localhost:8080/",
          "height": 72
        },
        "outputId": "b133c2c6-753e-40fb-9d32-9e83140784fb"
      },
      "cell_type": "code",
      "source": [
        "import glob\n",
        "from random import shuffle\n",
        "import numpy as np\n",
        "import tensorflow as tf\n",
        "import tensorflow_hub as hub\n",
        "from tensorflow.keras import layers\n",
        "import matplotlib.pyplot as plt\n",
        "from tensorflow.keras.models import Sequential\n",
        "from tensorflow.keras.layers import Conv2D, MaxPooling2D\n",
        "from tensorflow.keras.layers import Activation, Dropout, Flatten, Dense\n",
        "from tensorflow.keras.applications.mobilenet import preprocess_input\n",
        "from tensorflow.keras.preprocessing.image import ImageDataGenerator, load_img, img_to_array, array_to_img\n",
        "from tensorflow.keras import optimizers\n",
        "%matplotlib inline"
      ],
      "execution_count": 1,
      "outputs": [
        {
          "output_type": "stream",
          "text": [
            "WARNING: Logging before flag parsing goes to stderr.\n",
            "W0417 15:52:03.278015 140488601999232 __init__.py:56] Some hub symbols are not available because TensorFlow version is less than 1.14\n"
          ],
          "name": "stderr"
        }
      ]
    },
    {
      "metadata": {
        "id": "zcezlg68Nm_k",
        "colab_type": "text"
      },
      "cell_type": "markdown",
      "source": [
        "# Data Preparation"
      ]
    },
    {
      "metadata": {
        "id": "fng3AlroN742",
        "colab_type": "code",
        "colab": {}
      },
      "cell_type": "code",
      "source": [
        "def getLabel(filePaths):\n",
        "\tlabels = []\n",
        "\tfor img in filePaths:\n",
        "\t\tif 'Healthy' in img:\n",
        "\t\t\tlabels.append(0)\n",
        "\t\telif 'defects' in img:\n",
        "\t\t\tlabels.append(1)\n",
        "\n",
        "\tdataZip = list(zip(filePaths, labels))\n",
        "\tshuffle(dataZip)\n",
        "\tfilePaths, labels = zip(*dataZip)\n",
        "\treturn filePaths, labels\n",
        "\n",
        "\n",
        "def split_trainTest(imgsAll, labelAll, splitRatio = 0.20):\n",
        "\tdataZip = list(zip(imgsAll, labelAll))\n",
        "\tshuffle(dataZip)\n",
        "\timgsAll, labelAll = zip(*dataZip)\n",
        "\tsplitPoint = int(len(imgsAll)*splitRatio)\n",
        "\n",
        "\ttrainImgs = imgsAll[:int(len(imgsAll) - splitPoint)]\n",
        "\ttrainLabel = labelAll[:int(len(imgsAll) - splitPoint)]\n",
        "\ttestImgs = imgsAll[int(len(imgsAll)-splitPoint):]\n",
        "\ttestLabel = labelAll[int(len(imgsAll)-splitPoint):]\n",
        "\n",
        "\treturn trainImgs, testImgs, trainLabel, testLabel\n",
        "\n",
        "images, labels = getLabel(glob.glob('/content/JBMClassification/*/*.jpg'))\n",
        "# split the images into train and test sets.\n",
        "X_train, X_test, y_train, y_test = split_trainTest(images, labels,  splitRatio=0.25)"
      ],
      "execution_count": 0,
      "outputs": []
    },
    {
      "metadata": {
        "id": "Ke9mHiPWNZ2V",
        "colab_type": "code",
        "outputId": "a65f860e-dcd6-4ccd-dc6c-aa5144c12e08",
        "colab": {
          "base_uri": "https://localhost:8080/",
          "height": 52
        }
      },
      "cell_type": "code",
      "source": [
        "display(print(f'SHape of training dataset {len(X_train)} and shape of validation set is {len(X_test)}'))\n",
        "\n",
        "IMAGE_SIZE = (224, 224)\n",
        "\n",
        "train_imgs = [img_to_array(load_img(img, target_size=IMAGE_SIZE)) for img in X_train]\n",
        "train_imgs = np.array(train_imgs)\n",
        "train_labels = list(y_train)\n",
        "validation_imgs = [img_to_array(load_img(img, target_size=IMAGE_SIZE)) for img in X_test]\n",
        "validation_imgs = np.array(validation_imgs)\n",
        "validation_labels = list(y_test)"
      ],
      "execution_count": 3,
      "outputs": [
        {
          "output_type": "stream",
          "text": [
            "SHape of training dataset 188 and shape of validation set is 62\n"
          ],
          "name": "stdout"
        },
        {
          "output_type": "display_data",
          "data": {
            "text/plain": [
              "None"
            ]
          },
          "metadata": {
            "tags": []
          }
        }
      ]
    },
    {
      "metadata": {
        "id": "BlM9U3sGOnWF",
        "colab_type": "code",
        "outputId": "cdcf17ca-ab81-494d-9788-a04ede262b9a",
        "colab": {
          "base_uri": "https://localhost:8080/",
          "height": 35
        }
      },
      "cell_type": "code",
      "source": [
        "# Scale the images as Deep learning models tend to work good with smaller input\n",
        "\n",
        "print('Train dataset shape:', train_imgs.shape, \n",
        "      '\\tValidation dataset shape:', validation_imgs.shape)\n",
        "train_imgs_scaled = train_imgs.astype('float32')\n",
        "validation_imgs_scaled  = validation_imgs.astype('float32')\n",
        "train_imgs_scaled /= 255\n",
        "validation_imgs_scaled /= 255"
      ],
      "execution_count": 4,
      "outputs": [
        {
          "output_type": "stream",
          "text": [
            "Train dataset shape: (188, 224, 224, 3) \tValidation dataset shape: (62, 224, 224, 3)\n"
          ],
          "name": "stdout"
        }
      ]
    },
    {
      "metadata": {
        "id": "62kONWl-N2LG",
        "colab_type": "text"
      },
      "cell_type": "markdown",
      "source": [
        "### Intialization\n",
        "\n",
        "\n",
        "\n"
      ]
    },
    {
      "metadata": {
        "id": "3n5VayXtOXf4",
        "colab_type": "code",
        "colab": {}
      },
      "cell_type": "code",
      "source": [
        "batch_size = 32\n",
        "num_classes = 2\n",
        "epochs = 30\n",
        "input_shape = (224, 224, 3)\n",
        "img_width, img_height = 224, 224"
      ],
      "execution_count": 0,
      "outputs": []
    },
    {
      "metadata": {
        "id": "kz3bFj6jOecq",
        "colab_type": "text"
      },
      "cell_type": "markdown",
      "source": [
        "### Image Augmentation"
      ]
    },
    {
      "metadata": {
        "id": "wky4ukegOYeC",
        "colab_type": "code",
        "colab": {}
      },
      "cell_type": "code",
      "source": [
        "# train_datagen = ImageDataGenerator(rescale=1./255, zoom_range=0.3, rotation_range=50,\n",
        "#                                    width_shift_range=0.2, height_shift_range=0.2, shear_range=0.2, \n",
        "#                                    horizontal_flip=True, fill_mode='nearest')\n",
        "\n",
        "train_datagen = ImageDataGenerator(rescale=1./255, shear_range=0.2, zoom_range=0.2, horizontal_flip=True)\n",
        "\n",
        "# this is the augmentation configuration we will use for testing:\n",
        "# only rescaling\n",
        "val_datagen = ImageDataGenerator(rescale=1./255)\n",
        "\n",
        "train_generator = train_datagen.flow(train_imgs_scaled, train_labels, batch_size=batch_size)\n",
        "val_generator = val_datagen.flow(validation_imgs_scaled, validation_labels, batch_size=batch_size//2)"
      ],
      "execution_count": 0,
      "outputs": []
    },
    {
      "metadata": {
        "id": "f6ecWaPYP7ta",
        "colab_type": "text"
      },
      "cell_type": "markdown",
      "source": [
        "# Model importing and setting layers to non trainable"
      ]
    },
    {
      "metadata": {
        "id": "_VsX6rUBOhr1",
        "colab_type": "code",
        "colab": {
          "base_uri": "https://localhost:8080/",
          "height": 193
        },
        "outputId": "64112bfd-7857-4921-9323-e4a34c71a219"
      },
      "cell_type": "code",
      "source": [
        "from keras.models import Model\n",
        "import keras\n",
        "from keras.applications.inception_v3 import InceptionV3\n",
        "\n",
        "inception = InceptionV3(weights='imagenet', include_top=False, \n",
        "                             input_shape=(224, 224, 3))\n",
        "\n",
        "output = inception.layers[-1].output\n",
        "output = keras.layers.Flatten()(output)\n",
        "incept_model = Model(inception.input, output)\n",
        "\n",
        "incept_model.trainable = False\n",
        "for layer in incept_model.layers:\n",
        "    layer.trainable = False\n",
        "    \n",
        "# import pandas as pd\n",
        "# pd.set_option('max_colwidth', -1)\n",
        "# layers = [(layer, layer.name, layer.trainable) for layer in incept_model.layers]\n",
        "# display(pd.DataFrame(layers, columns=['Layer Type', 'Layer Name', 'Layer Trainable']))"
      ],
      "execution_count": 7,
      "outputs": [
        {
          "output_type": "stream",
          "text": [
            "WARNING:tensorflow:From /usr/local/lib/python3.6/dist-packages/tensorflow/python/framework/op_def_library.py:263: colocate_with (from tensorflow.python.framework.ops) is deprecated and will be removed in a future version.\n",
            "Instructions for updating:\n",
            "Colocations handled automatically by placer.\n"
          ],
          "name": "stdout"
        },
        {
          "output_type": "stream",
          "text": [
            "Using TensorFlow backend.\n",
            "W0417 15:52:59.563727 140488601999232 deprecation.py:323] From /usr/local/lib/python3.6/dist-packages/tensorflow/python/framework/op_def_library.py:263: colocate_with (from tensorflow.python.framework.ops) is deprecated and will be removed in a future version.\n",
            "Instructions for updating:\n",
            "Colocations handled automatically by placer.\n"
          ],
          "name": "stderr"
        },
        {
          "output_type": "stream",
          "text": [
            "Downloading data from https://github.com/fchollet/deep-learning-models/releases/download/v0.5/inception_v3_weights_tf_dim_ordering_tf_kernels_notop.h5\n",
            "87916544/87910968 [==============================] - 2s 0us/step\n"
          ],
          "name": "stdout"
        }
      ]
    },
    {
      "metadata": {
        "id": "rrvTuWcKQDP4",
        "colab_type": "text"
      },
      "cell_type": "markdown",
      "source": [
        "Getting bottle neck features "
      ]
    },
    {
      "metadata": {
        "id": "3F7DNWORPZCp",
        "colab_type": "code",
        "outputId": "9563aa1a-5ec9-4908-9c2b-854a3c0c91af",
        "colab": {
          "base_uri": "https://localhost:8080/",
          "height": 35
        }
      },
      "cell_type": "code",
      "source": [
        "def get_bottleneck_features(model, input_imgs):\n",
        "    features = model.predict(input_imgs, verbose=0)\n",
        "    return features\n",
        "    \n",
        "train_features_vgg = get_bottleneck_features(incept_model, train_imgs_scaled)\n",
        "validation_features_vgg = get_bottleneck_features(incept_model, validation_imgs_scaled)\n",
        "\n",
        "print('Train Bottleneck Features:', train_features_vgg.shape, \n",
        "      '\\tValidation Bottleneck Features:', validation_features_vgg.shape)"
      ],
      "execution_count": 9,
      "outputs": [
        {
          "output_type": "stream",
          "text": [
            "Train Bottleneck Features: (188, 51200) \tValidation Bottleneck Features: (62, 51200)\n"
          ],
          "name": "stdout"
        }
      ]
    },
    {
      "metadata": {
        "id": "C-sOXDMmQHi5",
        "colab_type": "text"
      },
      "cell_type": "markdown",
      "source": [
        "### Model "
      ]
    },
    {
      "metadata": {
        "id": "8VvZKNz6Plx4",
        "colab_type": "code",
        "outputId": "b2ccf6d6-e4ab-4872-917a-2baa66b6935b",
        "colab": {
          "base_uri": "https://localhost:8080/",
          "height": 505
        }
      },
      "cell_type": "code",
      "source": [
        "from keras.layers import Conv2D, MaxPooling2D, Flatten, Dense, Dropout, InputLayer\n",
        "from keras.models import Sequential\n",
        "from keras import optimizers\n",
        "\n",
        "input_shape = incept_model.output_shape[1]\n",
        "\n",
        "model = Sequential()\n",
        "model.add(InputLayer(input_shape=(input_shape,)))\n",
        "model.add(Dense(64, activation='relu', input_dim=input_shape))\n",
        "model.add(Dropout(0.3))\n",
        "model.add(Dense(64, activation='relu'))\n",
        "model.add(Dropout(0.3))\n",
        "model.add(Dense(32, activation='relu'))\n",
        "model.add(Dropout(0.3))\n",
        "model.add(Dense(1, activation='sigmoid'))\n",
        "model.compile(loss='binary_crossentropy',\n",
        "              optimizer=optimizers.RMSprop(lr=1e-5),\n",
        "              metrics=['accuracy'])\n",
        "\n",
        "model.summary()"
      ],
      "execution_count": 11,
      "outputs": [
        {
          "output_type": "stream",
          "text": [
            "WARNING:tensorflow:From /usr/local/lib/python3.6/dist-packages/keras/backend/tensorflow_backend.py:3445: calling dropout (from tensorflow.python.ops.nn_ops) with keep_prob is deprecated and will be removed in a future version.\n",
            "Instructions for updating:\n",
            "Please use `rate` instead of `keep_prob`. Rate should be set to `rate = 1 - keep_prob`.\n"
          ],
          "name": "stdout"
        },
        {
          "output_type": "stream",
          "text": [
            "W0417 15:54:41.192270 140488601999232 deprecation.py:506] From /usr/local/lib/python3.6/dist-packages/keras/backend/tensorflow_backend.py:3445: calling dropout (from tensorflow.python.ops.nn_ops) with keep_prob is deprecated and will be removed in a future version.\n",
            "Instructions for updating:\n",
            "Please use `rate` instead of `keep_prob`. Rate should be set to `rate = 1 - keep_prob`.\n"
          ],
          "name": "stderr"
        },
        {
          "output_type": "stream",
          "text": [
            "_________________________________________________________________\n",
            "Layer (type)                 Output Shape              Param #   \n",
            "=================================================================\n",
            "dense_1 (Dense)              (None, 64)                3276864   \n",
            "_________________________________________________________________\n",
            "dropout_1 (Dropout)          (None, 64)                0         \n",
            "_________________________________________________________________\n",
            "dense_2 (Dense)              (None, 64)                4160      \n",
            "_________________________________________________________________\n",
            "dropout_2 (Dropout)          (None, 64)                0         \n",
            "_________________________________________________________________\n",
            "dense_3 (Dense)              (None, 32)                2080      \n",
            "_________________________________________________________________\n",
            "dropout_3 (Dropout)          (None, 32)                0         \n",
            "_________________________________________________________________\n",
            "dense_4 (Dense)              (None, 1)                 33        \n",
            "=================================================================\n",
            "Total params: 3,283,137\n",
            "Trainable params: 3,283,137\n",
            "Non-trainable params: 0\n",
            "_________________________________________________________________\n"
          ],
          "name": "stdout"
        }
      ]
    },
    {
      "metadata": {
        "id": "ixCWLIijQVFS",
        "colab_type": "text"
      },
      "cell_type": "markdown",
      "source": [
        "## Run our model"
      ]
    },
    {
      "metadata": {
        "id": "FFyOpCm8P5FM",
        "colab_type": "code",
        "outputId": "93c1d366-7ee6-47bf-8d56-2b0a9bf59597",
        "colab": {
          "base_uri": "https://localhost:8080/",
          "height": 5255
        }
      },
      "cell_type": "code",
      "source": [
        "history = model.fit(x=train_features_vgg, y=train_labels,\n",
        "                    validation_data=(validation_features_vgg, validation_labels),\n",
        "                    batch_size=batch_size,\n",
        "                    epochs=150,\n",
        "                    verbose=1)"
      ],
      "execution_count": 15,
      "outputs": [
        {
          "output_type": "stream",
          "text": [
            "Train on 188 samples, validate on 62 samples\n",
            "Epoch 1/150\n",
            "188/188 [==============================] - 0s 2ms/step - loss: 0.1236 - acc: 0.9574 - val_loss: 0.3230 - val_acc: 0.8387\n",
            "Epoch 2/150\n",
            "188/188 [==============================] - 0s 2ms/step - loss: 0.0968 - acc: 0.9734 - val_loss: 0.3270 - val_acc: 0.8226\n",
            "Epoch 3/150\n",
            "188/188 [==============================] - 0s 2ms/step - loss: 0.1246 - acc: 0.9628 - val_loss: 0.3158 - val_acc: 0.8387\n",
            "Epoch 4/150\n",
            "188/188 [==============================] - 0s 2ms/step - loss: 0.1173 - acc: 0.9574 - val_loss: 0.3088 - val_acc: 0.8387\n",
            "Epoch 5/150\n",
            "188/188 [==============================] - 0s 2ms/step - loss: 0.1374 - acc: 0.9574 - val_loss: 0.3160 - val_acc: 0.8065\n",
            "Epoch 6/150\n",
            "188/188 [==============================] - 0s 2ms/step - loss: 0.1232 - acc: 0.9628 - val_loss: 0.3158 - val_acc: 0.8387\n",
            "Epoch 7/150\n",
            "188/188 [==============================] - 0s 2ms/step - loss: 0.0780 - acc: 0.9840 - val_loss: 0.3177 - val_acc: 0.8065\n",
            "Epoch 8/150\n",
            "188/188 [==============================] - 0s 2ms/step - loss: 0.0816 - acc: 0.9840 - val_loss: 0.3127 - val_acc: 0.8548\n",
            "Epoch 9/150\n",
            "188/188 [==============================] - 0s 2ms/step - loss: 0.1146 - acc: 0.9628 - val_loss: 0.3094 - val_acc: 0.8226\n",
            "Epoch 10/150\n",
            "188/188 [==============================] - 0s 2ms/step - loss: 0.0910 - acc: 0.9787 - val_loss: 0.3155 - val_acc: 0.8387\n",
            "Epoch 11/150\n",
            "188/188 [==============================] - 0s 2ms/step - loss: 0.0917 - acc: 0.9734 - val_loss: 0.3181 - val_acc: 0.8710\n",
            "Epoch 12/150\n",
            "188/188 [==============================] - 0s 2ms/step - loss: 0.1361 - acc: 0.9574 - val_loss: 0.3143 - val_acc: 0.8548\n",
            "Epoch 13/150\n",
            "188/188 [==============================] - 0s 2ms/step - loss: 0.0812 - acc: 0.9787 - val_loss: 0.3198 - val_acc: 0.8065\n",
            "Epoch 14/150\n",
            "188/188 [==============================] - 0s 2ms/step - loss: 0.1045 - acc: 0.9681 - val_loss: 0.3217 - val_acc: 0.8548\n",
            "Epoch 15/150\n",
            "188/188 [==============================] - 0s 2ms/step - loss: 0.1103 - acc: 0.9628 - val_loss: 0.3163 - val_acc: 0.8387\n",
            "Epoch 16/150\n",
            "188/188 [==============================] - 0s 2ms/step - loss: 0.0759 - acc: 0.9840 - val_loss: 0.3170 - val_acc: 0.8387\n",
            "Epoch 17/150\n",
            "188/188 [==============================] - 0s 2ms/step - loss: 0.0688 - acc: 0.9734 - val_loss: 0.3439 - val_acc: 0.8226\n",
            "Epoch 18/150\n",
            "188/188 [==============================] - 0s 2ms/step - loss: 0.0816 - acc: 0.9840 - val_loss: 0.3357 - val_acc: 0.8226\n",
            "Epoch 19/150\n",
            "188/188 [==============================] - 0s 2ms/step - loss: 0.0901 - acc: 0.9628 - val_loss: 0.3183 - val_acc: 0.8387\n",
            "Epoch 20/150\n",
            "188/188 [==============================] - 0s 2ms/step - loss: 0.0775 - acc: 0.9787 - val_loss: 0.3245 - val_acc: 0.8548\n",
            "Epoch 21/150\n",
            "188/188 [==============================] - 0s 2ms/step - loss: 0.0770 - acc: 0.9840 - val_loss: 0.3188 - val_acc: 0.8226\n",
            "Epoch 22/150\n",
            "188/188 [==============================] - 0s 2ms/step - loss: 0.0752 - acc: 0.9787 - val_loss: 0.3188 - val_acc: 0.8710\n",
            "Epoch 23/150\n",
            "188/188 [==============================] - 0s 2ms/step - loss: 0.0859 - acc: 0.9628 - val_loss: 0.3242 - val_acc: 0.8548\n",
            "Epoch 24/150\n",
            "188/188 [==============================] - 0s 2ms/step - loss: 0.0716 - acc: 0.9840 - val_loss: 0.3162 - val_acc: 0.8226\n",
            "Epoch 25/150\n",
            "188/188 [==============================] - 0s 2ms/step - loss: 0.1071 - acc: 0.9628 - val_loss: 0.3341 - val_acc: 0.8226\n",
            "Epoch 26/150\n",
            "188/188 [==============================] - 0s 2ms/step - loss: 0.1041 - acc: 0.9681 - val_loss: 0.3167 - val_acc: 0.8065\n",
            "Epoch 27/150\n",
            "188/188 [==============================] - 0s 2ms/step - loss: 0.0906 - acc: 0.9734 - val_loss: 0.3224 - val_acc: 0.8387\n",
            "Epoch 28/150\n",
            "188/188 [==============================] - 0s 2ms/step - loss: 0.0620 - acc: 0.9894 - val_loss: 0.3246 - val_acc: 0.8065\n",
            "Epoch 29/150\n",
            "188/188 [==============================] - 0s 2ms/step - loss: 0.0838 - acc: 0.9734 - val_loss: 0.3141 - val_acc: 0.8387\n",
            "Epoch 30/150\n",
            "188/188 [==============================] - 0s 2ms/step - loss: 0.0884 - acc: 0.9840 - val_loss: 0.3165 - val_acc: 0.8387\n",
            "Epoch 31/150\n",
            "188/188 [==============================] - 0s 2ms/step - loss: 0.0662 - acc: 0.9840 - val_loss: 0.3165 - val_acc: 0.8548\n",
            "Epoch 32/150\n",
            "188/188 [==============================] - 0s 2ms/step - loss: 0.0582 - acc: 0.9840 - val_loss: 0.3203 - val_acc: 0.8226\n",
            "Epoch 33/150\n",
            "188/188 [==============================] - 0s 2ms/step - loss: 0.0885 - acc: 0.9734 - val_loss: 0.3104 - val_acc: 0.8226\n",
            "Epoch 34/150\n",
            "188/188 [==============================] - 0s 2ms/step - loss: 0.0664 - acc: 0.9787 - val_loss: 0.3231 - val_acc: 0.8226\n",
            "Epoch 35/150\n",
            "188/188 [==============================] - 0s 2ms/step - loss: 0.0429 - acc: 0.9947 - val_loss: 0.3214 - val_acc: 0.8226\n",
            "Epoch 36/150\n",
            "188/188 [==============================] - 0s 2ms/step - loss: 0.0821 - acc: 0.9734 - val_loss: 0.3182 - val_acc: 0.8226\n",
            "Epoch 37/150\n",
            "188/188 [==============================] - 0s 2ms/step - loss: 0.0596 - acc: 0.9894 - val_loss: 0.3248 - val_acc: 0.8387\n",
            "Epoch 38/150\n",
            "188/188 [==============================] - 0s 2ms/step - loss: 0.0515 - acc: 0.9947 - val_loss: 0.3120 - val_acc: 0.8387\n",
            "Epoch 39/150\n",
            "188/188 [==============================] - 0s 2ms/step - loss: 0.0958 - acc: 0.9628 - val_loss: 0.3362 - val_acc: 0.8226\n",
            "Epoch 40/150\n",
            "188/188 [==============================] - 0s 2ms/step - loss: 0.0675 - acc: 0.9734 - val_loss: 0.3235 - val_acc: 0.8226\n",
            "Epoch 41/150\n",
            "188/188 [==============================] - 0s 2ms/step - loss: 0.0623 - acc: 0.9734 - val_loss: 0.3140 - val_acc: 0.8548\n",
            "Epoch 42/150\n",
            "188/188 [==============================] - 0s 2ms/step - loss: 0.0734 - acc: 0.9681 - val_loss: 0.3158 - val_acc: 0.8548\n",
            "Epoch 43/150\n",
            "188/188 [==============================] - 0s 2ms/step - loss: 0.0869 - acc: 0.9681 - val_loss: 0.3204 - val_acc: 0.8710\n",
            "Epoch 44/150\n",
            "188/188 [==============================] - 0s 2ms/step - loss: 0.0824 - acc: 0.9734 - val_loss: 0.3172 - val_acc: 0.8387\n",
            "Epoch 45/150\n",
            "188/188 [==============================] - 0s 2ms/step - loss: 0.0610 - acc: 0.9894 - val_loss: 0.3333 - val_acc: 0.8710\n",
            "Epoch 46/150\n",
            "188/188 [==============================] - 0s 2ms/step - loss: 0.0560 - acc: 0.9840 - val_loss: 0.3286 - val_acc: 0.8548\n",
            "Epoch 47/150\n",
            "188/188 [==============================] - 0s 2ms/step - loss: 0.0498 - acc: 0.9947 - val_loss: 0.3285 - val_acc: 0.8226\n",
            "Epoch 48/150\n",
            "188/188 [==============================] - 0s 2ms/step - loss: 0.0687 - acc: 0.9840 - val_loss: 0.3193 - val_acc: 0.8226\n",
            "Epoch 49/150\n",
            "188/188 [==============================] - 0s 2ms/step - loss: 0.0955 - acc: 0.9521 - val_loss: 0.3246 - val_acc: 0.8226\n",
            "Epoch 50/150\n",
            "188/188 [==============================] - 0s 2ms/step - loss: 0.0624 - acc: 0.9734 - val_loss: 0.3319 - val_acc: 0.8387\n",
            "Epoch 51/150\n",
            "188/188 [==============================] - 0s 2ms/step - loss: 0.0577 - acc: 0.9840 - val_loss: 0.3423 - val_acc: 0.8226\n",
            "Epoch 52/150\n",
            "188/188 [==============================] - 0s 2ms/step - loss: 0.0445 - acc: 0.9947 - val_loss: 0.3372 - val_acc: 0.8387\n",
            "Epoch 53/150\n",
            "188/188 [==============================] - 0s 2ms/step - loss: 0.0623 - acc: 0.9840 - val_loss: 0.3372 - val_acc: 0.8226\n",
            "Epoch 54/150\n",
            "188/188 [==============================] - 0s 2ms/step - loss: 0.0710 - acc: 0.9787 - val_loss: 0.3450 - val_acc: 0.8710\n",
            "Epoch 55/150\n",
            "188/188 [==============================] - 0s 2ms/step - loss: 0.0679 - acc: 0.9787 - val_loss: 0.3495 - val_acc: 0.8871\n",
            "Epoch 56/150\n",
            "188/188 [==============================] - 0s 2ms/step - loss: 0.0623 - acc: 0.9840 - val_loss: 0.3311 - val_acc: 0.8387\n",
            "Epoch 57/150\n",
            "188/188 [==============================] - 0s 2ms/step - loss: 0.0422 - acc: 0.9947 - val_loss: 0.3393 - val_acc: 0.8387\n",
            "Epoch 58/150\n",
            "188/188 [==============================] - 0s 2ms/step - loss: 0.0421 - acc: 0.9894 - val_loss: 0.3338 - val_acc: 0.8548\n",
            "Epoch 59/150\n",
            "188/188 [==============================] - 0s 2ms/step - loss: 0.0627 - acc: 0.9787 - val_loss: 0.3226 - val_acc: 0.8226\n",
            "Epoch 60/150\n",
            "188/188 [==============================] - 0s 2ms/step - loss: 0.0542 - acc: 0.9894 - val_loss: 0.3113 - val_acc: 0.8387\n",
            "Epoch 61/150\n",
            "188/188 [==============================] - 0s 2ms/step - loss: 0.0546 - acc: 0.9787 - val_loss: 0.3284 - val_acc: 0.8387\n",
            "Epoch 62/150\n",
            "188/188 [==============================] - 0s 2ms/step - loss: 0.0685 - acc: 0.9840 - val_loss: 0.3412 - val_acc: 0.8226\n",
            "Epoch 63/150\n",
            "188/188 [==============================] - 0s 2ms/step - loss: 0.0492 - acc: 0.9947 - val_loss: 0.3356 - val_acc: 0.8226\n",
            "Epoch 64/150\n",
            "188/188 [==============================] - 0s 2ms/step - loss: 0.0692 - acc: 0.9734 - val_loss: 0.3127 - val_acc: 0.8548\n",
            "Epoch 65/150\n",
            "188/188 [==============================] - 0s 2ms/step - loss: 0.0628 - acc: 0.9840 - val_loss: 0.3265 - val_acc: 0.8226\n",
            "Epoch 66/150\n",
            "188/188 [==============================] - 0s 2ms/step - loss: 0.0747 - acc: 0.9734 - val_loss: 0.3700 - val_acc: 0.8387\n",
            "Epoch 67/150\n",
            "188/188 [==============================] - 0s 2ms/step - loss: 0.0668 - acc: 0.9894 - val_loss: 0.3349 - val_acc: 0.8387\n",
            "Epoch 68/150\n",
            "188/188 [==============================] - 0s 2ms/step - loss: 0.0485 - acc: 0.9840 - val_loss: 0.3369 - val_acc: 0.8387\n",
            "Epoch 69/150\n",
            "188/188 [==============================] - 0s 2ms/step - loss: 0.0529 - acc: 0.9894 - val_loss: 0.3433 - val_acc: 0.8387\n",
            "Epoch 70/150\n",
            "188/188 [==============================] - 0s 2ms/step - loss: 0.0424 - acc: 0.9894 - val_loss: 0.3556 - val_acc: 0.8226\n",
            "Epoch 71/150\n",
            "188/188 [==============================] - 0s 2ms/step - loss: 0.0426 - acc: 0.9894 - val_loss: 0.3477 - val_acc: 0.8387\n",
            "Epoch 72/150\n",
            "188/188 [==============================] - 0s 2ms/step - loss: 0.0580 - acc: 0.9787 - val_loss: 0.3441 - val_acc: 0.8387\n",
            "Epoch 73/150\n",
            "188/188 [==============================] - 0s 2ms/step - loss: 0.0543 - acc: 0.9787 - val_loss: 0.3777 - val_acc: 0.8387\n",
            "Epoch 74/150\n",
            "188/188 [==============================] - 0s 2ms/step - loss: 0.0687 - acc: 0.9734 - val_loss: 0.3430 - val_acc: 0.8387\n",
            "Epoch 75/150\n",
            "188/188 [==============================] - 0s 2ms/step - loss: 0.0774 - acc: 0.9681 - val_loss: 0.3896 - val_acc: 0.8387\n",
            "Epoch 76/150\n",
            "188/188 [==============================] - 0s 2ms/step - loss: 0.0461 - acc: 0.9840 - val_loss: 0.3699 - val_acc: 0.8387\n",
            "Epoch 77/150\n",
            "188/188 [==============================] - 0s 2ms/step - loss: 0.0687 - acc: 0.9734 - val_loss: 0.3458 - val_acc: 0.8387\n",
            "Epoch 78/150\n",
            "188/188 [==============================] - 0s 2ms/step - loss: 0.0625 - acc: 0.9840 - val_loss: 0.3431 - val_acc: 0.8548\n",
            "Epoch 79/150\n",
            "188/188 [==============================] - 0s 2ms/step - loss: 0.0849 - acc: 0.9681 - val_loss: 0.3483 - val_acc: 0.8387\n",
            "Epoch 80/150\n",
            "188/188 [==============================] - 0s 2ms/step - loss: 0.0660 - acc: 0.9734 - val_loss: 0.3410 - val_acc: 0.8548\n",
            "Epoch 81/150\n",
            "188/188 [==============================] - 0s 2ms/step - loss: 0.0406 - acc: 0.9894 - val_loss: 0.3387 - val_acc: 0.8226\n",
            "Epoch 82/150\n",
            "188/188 [==============================] - 0s 2ms/step - loss: 0.0556 - acc: 0.9947 - val_loss: 0.3474 - val_acc: 0.8387\n",
            "Epoch 83/150\n",
            "188/188 [==============================] - 0s 2ms/step - loss: 0.0545 - acc: 0.9840 - val_loss: 0.3365 - val_acc: 0.8548\n",
            "Epoch 84/150\n",
            "188/188 [==============================] - 0s 2ms/step - loss: 0.0337 - acc: 0.9947 - val_loss: 0.3501 - val_acc: 0.8226\n",
            "Epoch 85/150\n",
            "188/188 [==============================] - 0s 2ms/step - loss: 0.0548 - acc: 0.9840 - val_loss: 0.3398 - val_acc: 0.8387\n",
            "Epoch 86/150\n",
            "188/188 [==============================] - 0s 2ms/step - loss: 0.0362 - acc: 0.9894 - val_loss: 0.3336 - val_acc: 0.8387\n",
            "Epoch 87/150\n",
            "188/188 [==============================] - 0s 2ms/step - loss: 0.0595 - acc: 0.9681 - val_loss: 0.3389 - val_acc: 0.8387\n",
            "Epoch 88/150\n",
            "188/188 [==============================] - 0s 2ms/step - loss: 0.0458 - acc: 0.9947 - val_loss: 0.3453 - val_acc: 0.8226\n",
            "Epoch 89/150\n",
            "188/188 [==============================] - 0s 2ms/step - loss: 0.0517 - acc: 0.9787 - val_loss: 0.3425 - val_acc: 0.9032\n",
            "Epoch 90/150\n",
            "188/188 [==============================] - 0s 2ms/step - loss: 0.0356 - acc: 0.9894 - val_loss: 0.3397 - val_acc: 0.8387\n",
            "Epoch 91/150\n",
            "188/188 [==============================] - 0s 2ms/step - loss: 0.0475 - acc: 0.9840 - val_loss: 0.3503 - val_acc: 0.8387\n",
            "Epoch 92/150\n",
            "188/188 [==============================] - 0s 2ms/step - loss: 0.0450 - acc: 0.9787 - val_loss: 0.3517 - val_acc: 0.8387\n",
            "Epoch 93/150\n",
            "188/188 [==============================] - 0s 2ms/step - loss: 0.0712 - acc: 0.9628 - val_loss: 0.3456 - val_acc: 0.8226\n",
            "Epoch 94/150\n",
            "188/188 [==============================] - 0s 2ms/step - loss: 0.0368 - acc: 0.9894 - val_loss: 0.3362 - val_acc: 0.8387\n",
            "Epoch 95/150\n",
            "188/188 [==============================] - 0s 2ms/step - loss: 0.0438 - acc: 0.9840 - val_loss: 0.3475 - val_acc: 0.8226\n",
            "Epoch 96/150\n",
            "188/188 [==============================] - 0s 2ms/step - loss: 0.0453 - acc: 0.9894 - val_loss: 0.3479 - val_acc: 0.8387\n",
            "Epoch 97/150\n",
            "188/188 [==============================] - 0s 2ms/step - loss: 0.0429 - acc: 0.9947 - val_loss: 0.3470 - val_acc: 0.8710\n",
            "Epoch 98/150\n",
            "188/188 [==============================] - 0s 2ms/step - loss: 0.0509 - acc: 0.9840 - val_loss: 0.3263 - val_acc: 0.8387\n",
            "Epoch 99/150\n",
            "188/188 [==============================] - 0s 2ms/step - loss: 0.0586 - acc: 0.9894 - val_loss: 0.3344 - val_acc: 0.8548\n",
            "Epoch 100/150\n",
            "188/188 [==============================] - 0s 2ms/step - loss: 0.0348 - acc: 0.9947 - val_loss: 0.3499 - val_acc: 0.8387\n",
            "Epoch 101/150\n",
            "188/188 [==============================] - 0s 2ms/step - loss: 0.0527 - acc: 0.9840 - val_loss: 0.3501 - val_acc: 0.8387\n",
            "Epoch 102/150\n",
            "188/188 [==============================] - 0s 2ms/step - loss: 0.0344 - acc: 0.9947 - val_loss: 0.3699 - val_acc: 0.8387\n",
            "Epoch 103/150\n",
            "188/188 [==============================] - 0s 2ms/step - loss: 0.0575 - acc: 0.9840 - val_loss: 0.3754 - val_acc: 0.8387\n",
            "Epoch 104/150\n",
            "188/188 [==============================] - 0s 2ms/step - loss: 0.0437 - acc: 0.9840 - val_loss: 0.3473 - val_acc: 0.8871\n",
            "Epoch 105/150\n",
            "188/188 [==============================] - 0s 2ms/step - loss: 0.0443 - acc: 0.9894 - val_loss: 0.3446 - val_acc: 0.8387\n",
            "Epoch 106/150\n",
            "188/188 [==============================] - 0s 2ms/step - loss: 0.0582 - acc: 0.9787 - val_loss: 0.3404 - val_acc: 0.8226\n",
            "Epoch 107/150\n",
            "188/188 [==============================] - 0s 2ms/step - loss: 0.0426 - acc: 0.9840 - val_loss: 0.3411 - val_acc: 0.8226\n",
            "Epoch 108/150\n",
            "188/188 [==============================] - 0s 2ms/step - loss: 0.0529 - acc: 0.9840 - val_loss: 0.3435 - val_acc: 0.8387\n",
            "Epoch 109/150\n",
            "188/188 [==============================] - 0s 2ms/step - loss: 0.0338 - acc: 0.9947 - val_loss: 0.3393 - val_acc: 0.8710\n",
            "Epoch 110/150\n",
            "188/188 [==============================] - 0s 2ms/step - loss: 0.0549 - acc: 0.9787 - val_loss: 0.3247 - val_acc: 0.8548\n",
            "Epoch 111/150\n",
            "188/188 [==============================] - 0s 2ms/step - loss: 0.0446 - acc: 0.9840 - val_loss: 0.3356 - val_acc: 0.8226\n",
            "Epoch 112/150\n",
            "188/188 [==============================] - 0s 2ms/step - loss: 0.0392 - acc: 1.0000 - val_loss: 0.3226 - val_acc: 0.8710\n",
            "Epoch 113/150\n",
            "188/188 [==============================] - 0s 2ms/step - loss: 0.0500 - acc: 0.9787 - val_loss: 0.3228 - val_acc: 0.8548\n",
            "Epoch 114/150\n",
            "188/188 [==============================] - 0s 2ms/step - loss: 0.0450 - acc: 0.9894 - val_loss: 0.3494 - val_acc: 0.8548\n",
            "Epoch 115/150\n",
            "188/188 [==============================] - 0s 2ms/step - loss: 0.0506 - acc: 0.9734 - val_loss: 0.3264 - val_acc: 0.8710\n",
            "Epoch 116/150\n",
            "188/188 [==============================] - 0s 2ms/step - loss: 0.0428 - acc: 0.9840 - val_loss: 0.3261 - val_acc: 0.8387\n",
            "Epoch 117/150\n",
            "188/188 [==============================] - 0s 2ms/step - loss: 0.0351 - acc: 0.9894 - val_loss: 0.3312 - val_acc: 0.8710\n",
            "Epoch 118/150\n",
            "188/188 [==============================] - 0s 2ms/step - loss: 0.0530 - acc: 0.9840 - val_loss: 0.3443 - val_acc: 0.9032\n",
            "Epoch 119/150\n",
            "188/188 [==============================] - 0s 2ms/step - loss: 0.0501 - acc: 0.9840 - val_loss: 0.3225 - val_acc: 0.8548\n",
            "Epoch 120/150\n",
            "188/188 [==============================] - 0s 2ms/step - loss: 0.0575 - acc: 0.9734 - val_loss: 0.3223 - val_acc: 0.8548\n",
            "Epoch 121/150\n",
            "188/188 [==============================] - 0s 2ms/step - loss: 0.0319 - acc: 0.9947 - val_loss: 0.3289 - val_acc: 0.8387\n",
            "Epoch 122/150\n",
            "188/188 [==============================] - 0s 2ms/step - loss: 0.0278 - acc: 0.9947 - val_loss: 0.3492 - val_acc: 0.8226\n",
            "Epoch 123/150\n",
            "188/188 [==============================] - 0s 2ms/step - loss: 0.0452 - acc: 0.9787 - val_loss: 0.3636 - val_acc: 0.8387\n",
            "Epoch 124/150\n",
            "188/188 [==============================] - 0s 2ms/step - loss: 0.0303 - acc: 0.9894 - val_loss: 0.3312 - val_acc: 0.8387\n",
            "Epoch 125/150\n",
            "188/188 [==============================] - 0s 2ms/step - loss: 0.0339 - acc: 0.9947 - val_loss: 0.3360 - val_acc: 0.8387\n",
            "Epoch 126/150\n",
            "188/188 [==============================] - 0s 2ms/step - loss: 0.0432 - acc: 0.9840 - val_loss: 0.3486 - val_acc: 0.8710\n",
            "Epoch 127/150\n",
            "188/188 [==============================] - 0s 2ms/step - loss: 0.0293 - acc: 0.9947 - val_loss: 0.3627 - val_acc: 0.8871\n",
            "Epoch 128/150\n",
            "188/188 [==============================] - 0s 2ms/step - loss: 0.0322 - acc: 0.9840 - val_loss: 0.3975 - val_acc: 0.8871\n",
            "Epoch 129/150\n",
            "188/188 [==============================] - 0s 2ms/step - loss: 0.0473 - acc: 0.9894 - val_loss: 0.3432 - val_acc: 0.8226\n",
            "Epoch 130/150\n",
            "188/188 [==============================] - 0s 2ms/step - loss: 0.0259 - acc: 0.9947 - val_loss: 0.3406 - val_acc: 0.8226\n",
            "Epoch 131/150\n",
            "188/188 [==============================] - 0s 2ms/step - loss: 0.0392 - acc: 0.9840 - val_loss: 0.3432 - val_acc: 0.8226\n",
            "Epoch 132/150\n",
            "188/188 [==============================] - 0s 2ms/step - loss: 0.0229 - acc: 0.9947 - val_loss: 0.3521 - val_acc: 0.8226\n",
            "Epoch 133/150\n",
            "188/188 [==============================] - 0s 2ms/step - loss: 0.0448 - acc: 0.9734 - val_loss: 0.3534 - val_acc: 0.8387\n",
            "Epoch 134/150\n",
            "188/188 [==============================] - 0s 2ms/step - loss: 0.0413 - acc: 0.9894 - val_loss: 0.3494 - val_acc: 0.8387\n",
            "Epoch 135/150\n",
            "188/188 [==============================] - 0s 2ms/step - loss: 0.0318 - acc: 0.9947 - val_loss: 0.3532 - val_acc: 0.8387\n",
            "Epoch 136/150\n",
            "188/188 [==============================] - 0s 2ms/step - loss: 0.0285 - acc: 0.9947 - val_loss: 0.3609 - val_acc: 0.8548\n",
            "Epoch 137/150\n",
            "188/188 [==============================] - 0s 2ms/step - loss: 0.0249 - acc: 0.9947 - val_loss: 0.3687 - val_acc: 0.8065\n",
            "Epoch 138/150\n",
            "188/188 [==============================] - 0s 2ms/step - loss: 0.0542 - acc: 0.9787 - val_loss: 0.3729 - val_acc: 0.8226\n",
            "Epoch 139/150\n",
            "188/188 [==============================] - 0s 2ms/step - loss: 0.0424 - acc: 0.9840 - val_loss: 0.3468 - val_acc: 0.8387\n",
            "Epoch 140/150\n",
            "188/188 [==============================] - 0s 2ms/step - loss: 0.0212 - acc: 1.0000 - val_loss: 0.3490 - val_acc: 0.8548\n",
            "Epoch 141/150\n",
            "188/188 [==============================] - 0s 2ms/step - loss: 0.0287 - acc: 0.9894 - val_loss: 0.3350 - val_acc: 0.8226\n",
            "Epoch 142/150\n",
            "188/188 [==============================] - 0s 2ms/step - loss: 0.0308 - acc: 0.9894 - val_loss: 0.3483 - val_acc: 0.8710\n",
            "Epoch 143/150\n",
            "188/188 [==============================] - 0s 2ms/step - loss: 0.0253 - acc: 1.0000 - val_loss: 0.3594 - val_acc: 0.8710\n",
            "Epoch 144/150\n",
            "188/188 [==============================] - 0s 2ms/step - loss: 0.0522 - acc: 0.9894 - val_loss: 0.3534 - val_acc: 0.8548\n",
            "Epoch 145/150\n",
            "188/188 [==============================] - 0s 2ms/step - loss: 0.0325 - acc: 0.9787 - val_loss: 0.3583 - val_acc: 0.8710\n",
            "Epoch 146/150\n",
            "188/188 [==============================] - 0s 2ms/step - loss: 0.0391 - acc: 0.9840 - val_loss: 0.3674 - val_acc: 0.8548\n",
            "Epoch 147/150\n",
            "188/188 [==============================] - 0s 2ms/step - loss: 0.0231 - acc: 0.9947 - val_loss: 0.3662 - val_acc: 0.8387\n",
            "Epoch 148/150\n",
            "188/188 [==============================] - 0s 2ms/step - loss: 0.0318 - acc: 0.9894 - val_loss: 0.3686 - val_acc: 0.8548\n",
            "Epoch 149/150\n",
            "188/188 [==============================] - 0s 2ms/step - loss: 0.0231 - acc: 0.9947 - val_loss: 0.3749 - val_acc: 0.8710\n",
            "Epoch 150/150\n",
            "188/188 [==============================] - 0s 2ms/step - loss: 0.0228 - acc: 0.9947 - val_loss: 0.3725 - val_acc: 0.8710\n"
          ],
          "name": "stdout"
        }
      ]
    },
    {
      "metadata": {
        "id": "gcmgtFVKQ2Ld",
        "colab_type": "text"
      },
      "cell_type": "markdown",
      "source": [
        "# Plot validation and training accuracy"
      ]
    },
    {
      "metadata": {
        "id": "L95SAiC9bS_N",
        "colab_type": "code",
        "outputId": "3f14e3d4-20b9-4a0a-af02-5b0ca7129b63",
        "colab": {
          "base_uri": "https://localhost:8080/",
          "height": 309
        }
      },
      "cell_type": "code",
      "source": [
        "f, (ax1, ax2) = plt.subplots(1, 2, figsize=(12, 4))\n",
        "t = f.suptitle('Basic CNN Performance', fontsize=12)\n",
        "f.subplots_adjust(top=0.85, wspace=0.3)\n",
        "\n",
        "epoch_list = list(range(1,151))\n",
        "ax1.plot(epoch_list, history.history['acc'], label='Train Accuracy')\n",
        "ax1.plot(epoch_list, history.history['val_acc'], label='Validation Accuracy')\n",
        "ax1.set_xticks(np.arange(0, 151, 10))\n",
        "ax1.set_ylabel('Accuracy Value')\n",
        "ax1.set_xlabel('Epoch')\n",
        "ax1.set_title('Accuracy')\n",
        "l1 = ax1.legend(loc=\"best\")\n",
        "\n",
        "ax2.plot(epoch_list, history.history['loss'], label='Train Loss')\n",
        "ax2.plot(epoch_list, history.history['val_loss'], label='Validation Loss')\n",
        "ax2.set_xticks(np.arange(0, 151, 10))\n",
        "ax2.set_ylabel('Loss Value')\n",
        "ax2.set_xlabel('Epoch')\n",
        "ax2.set_title('Loss')\n",
        "l2 = ax2.legend(loc=\"best\")"
      ],
      "execution_count": 18,
      "outputs": [
        {
          "output_type": "display_data",
          "data": {
            "image/png": "[encoded data removed]",
            "text/plain": [
              "<Figure size 864x288 with 2 Axes>"
            ]
          },
          "metadata": {
            "tags": []
          }
        }
      ]
    },
    {
      "metadata": {
        "id": "-KvbJeI8ZiFy",
        "colab_type": "code",
        "colab": {}
      },
      "cell_type": "code",
      "source": [
        "model.save('model_v7.h5')\n",
        "f.savefig('model_v7.png')\n"
      ],
      "execution_count": 0,
      "outputs": []
    },
    {
      "metadata": {
        "id": "jjlTHFDUaaxF",
        "colab_type": "text"
      },
      "cell_type": "markdown",
      "source": [
        "\n",
        "```\n",
        "# from IPython.display import Image\n",
        "# %matplotlib inline\n",
        "from PIL import Image\n",
        "display(Image.open('model_v6.png'))\n",
        "\n",
        "```"
      ]
    },
    {
      "metadata": {
        "id": "I7M7ueZh3enS",
        "colab_type": "text"
      },
      "cell_type": "markdown",
      "source": [
        "# Version numbering"
      ]
    },
    {
      "metadata": {
        "id": "rbQydTMlRxDi",
        "colab_type": "text"
      },
      "cell_type": "markdown",
      "source": [
        "\n",
        "\n",
        "1.   Version number = 1\n",
        ">  Batch size = 32. \n",
        "\n",
        "\n",
        ">  Layer structure  = \n",
        "```\n",
        "model.add(Dense(512, activation='relu', input_dim=input_shape))\n",
        "model.add(Dropout(0.4))\n",
        "model.add(Dense(128, activation='relu'))\n",
        "model.add(Dropout(0.3))\n",
        "model.add(Dense(64, activation='relu'))\n",
        "model.add(Dropout(0.3))\n",
        "```\n",
        "\n",
        "\n",
        "\n",
        "\n",
        "---\n",
        "\n",
        "\n",
        "\n",
        "2.   Version number = 2\n",
        ">  Batch size = 32\n",
        "\n",
        ">  Layer structure  = \n",
        "```\n",
        "model.add(Dense(128, activation='relu', input_dim=input_shape))\n",
        "model.add(Dropout(0.4))\n",
        "model.add(Dense(64, activation='relu'))\n",
        "model.add(Dropout(0.4))\n",
        "model.add(Dense(64, activation='relu'))\n",
        "model.add(Dropout(0.3))\n",
        "```\n",
        "\n",
        "\n",
        "---\n",
        "\n",
        "\n",
        "3.   Version number = 3\n",
        ">  Batch size = 32\n",
        "\n",
        ">  Layer structure  = \n",
        "```\n",
        "model.add(Dense(524, activation='relu', input_dim=input_shape))\n",
        "model.add(Dropout(0.4))\n",
        "model.add(Dense(64, activation='relu'))\n",
        "model.add(Dropout(0.4))\n",
        "model.add(Dense(32, activation='relu'))\n",
        "model.add(Dropout(0.3))\n",
        "```\n",
        "\n",
        "\n",
        "---\n",
        "\n",
        "\n",
        "\n",
        "4.   Version number = 4\n",
        ">  Batch size = 32\n",
        "\n",
        ">  Layer structure  = \n",
        "```\n",
        "model.add(Dense(256, activation='relu', input_dim=input_shape))\n",
        "model.add(Dropout(0.4))\n",
        "model.add(Dense(128, activation='relu'))\n",
        "model.add(Dropout(0.4))\n",
        "model.add(Dense(32, activation='relu'))\n",
        "model.add(Dropout(0.2))\n",
        "```\n",
        "\n",
        "\n",
        "---\n",
        "\n",
        "\n",
        "5.   Version number = 5\n",
        ">  Batch size = 32\n",
        "\n",
        ">  Layer structure  = \n",
        "```\n",
        "model.add(Dense(256, activation='relu', input_dim=input_shape))\n",
        "model.add(Dropout(0.4))\n",
        "model.add(Dense(64, activation='relu'))\n",
        "model.add(Dropout(0.3))\n",
        "model.add(Dense(32, activation='relu'))\n",
        "model.add(Dropout(0.3))\n",
        "```\n",
        "\n",
        "---\n",
        "\n",
        "6.   Version number = 6\n",
        ">  Batch size = 32\n",
        "\n",
        ">  Layer structure  = \n",
        "```\n",
        "model.add(Dense(256, activation='relu', input_dim=input_shape))\n",
        "model.add(Dropout(0.3))\n",
        "model.add(Dense(64, activation='relu'))\n",
        "model.add(Dropout(0.4))\n",
        "model.add(Dense(32, activation='relu'))\n",
        "model.add(Dropout(0.3))\n",
        "```\n",
        "\n",
        "\n",
        "\n",
        "---\n",
        "\n",
        "\n",
        "\n",
        "7.   Version number = 7\n",
        ">  Batch size = 32\n",
        "\n",
        ">  Layer structure  = \n",
        "```\n",
        "model.add(Dense(64, activation='relu', input_dim=input_shape))\n",
        "model.add(Dropout(0.3))\n",
        "model.add(Dense(64, activation='relu'))\n",
        "model.add(Dropout(0.3))\n",
        "model.add(Dense(32, activation='relu'))\n",
        "model.add(Dropout(0.3))\n",
        "```\n",
        "\n",
        "\n",
        "---\n",
        "\n",
        "\n",
        "\n",
        "8.   Version number = 8\n",
        ">  Batch size = 32\n",
        "\n",
        ">  Layer structure  = \n",
        "\n",
        "```\n",
        "model.add(Dense(1024, activation='relu', input_dim=input_shape))\n",
        "model.add(Dropout(0.6))\n",
        "model.add(Dense(512, activation='relu'))\n",
        "model.add(Dropout(0.4))\n",
        "model.add(Dense(32, activation='relu'))\n",
        "model.add(Dropout(0.2))\n",
        "```\n",
        "\n",
        "---\n",
        "\n",
        "\n",
        "9.   Version number = 9\n",
        ">  Batch size = 32\n",
        "\n",
        ">  Layer structure  = \n",
        "\n",
        "```\n",
        "model.add(Dense(1024, activation='relu', input_dim=input_shape))\n",
        "model.add(Dropout(0.6))\n",
        "model.add(Dense(512, activation='relu'))\n",
        "model.add(Dropout(0.6))\n",
        "model.add(Dense(64, activation='relu'))\n",
        "model.add(Dropout(0.2))\n",
        "\n",
        "\n",
        "\n",
        "model.compile(loss='binary_crossentropy',\n",
        "              optimizer=optimizers.RMSprop(lr=1e-4, decay=1e-5),\n",
        "              metrics=['accuracy'])\n",
        "\n",
        "```\n",
        "\n",
        "\n",
        "10. V11\n",
        "\n",
        "```\n",
        "model.add(Dense(64, activation='relu', input_dim=input_shape))\n",
        "model.add(Dropout(0.3))\n",
        "model.add(Dense(32, activation='relu'))\n",
        "model.add(Dropout(0.3))\n",
        "model.add(Dense(16, activation='relu'))\n",
        "model.add(Dropout(0.3))\n",
        "model.add(Dense(1, activation='sigmoid'))\n",
        "```\n",
        "\n",
        "\n",
        "11. V-12\n",
        "\n",
        "```\n",
        "model.add(Dense(64, activation='relu', input_dim=input_shape))\n",
        "model.add(Dropout(0.3))\n",
        "model.add(Dense(64, activation='relu'))\n",
        "model.add(Dropout(0.2))\n",
        "model.add(Dense(32, activation='relu'))\n",
        "model.add(Dropout(0.2))\n",
        "```\n",
        "\n",
        "12. v-13\n",
        "\n",
        "```\n",
        "model.add(Dense(64, activation='relu', input_dim=input_shape))\n",
        "model.add(Dropout(0.3))\n",
        "model.add(Dense(64, activation='relu'))\n",
        "model.add(Dropout(0.2))\n",
        "model.add(Dense(32, activation='relu'))\n",
        "model.add(Dropout(0.2))\n",
        "model.add(Dense(32, activation='relu'))\n",
        "model.add(Dropout(0.2))\n",
        "```\n",
        "\n",
        "\n",
        "13. v-14\n",
        "\n",
        "```\n",
        "model.add(Dense(64, activation='relu', input_dim=input_shape))\n",
        "model.add(Dropout(0.3))\n",
        "model.add(Dense(64, activation='relu'))\n",
        "model.add(Dropout(0.3))\n",
        "model.add(Dense(16, activation='relu'))\n",
        "model.add(Dropout(0.3))\n",
        "```\n",
        "\n",
        "14. v-15\n",
        "\n",
        "```\n",
        "model.add(Dense(1024, activation='relu', input_dim=input_shape))\n",
        "model.add(Dropout(0.5))\n",
        "model.add(Dense(64, activation='relu'))\n",
        "model.add(Dropout(0.4))\n",
        "model.add(Dense(32, activation='relu'))\n",
        "model.add(Dropout(0.3))\n",
        "```"
      ]
    },
    {
      "metadata": {
        "id": "8wf0lokjVFky",
        "colab_type": "code",
        "colab": {}
      },
      "cell_type": "code",
      "source": [
        ""
      ],
      "execution_count": 0,
      "outputs": []
    }
  ]
}